{
  "nbformat": 4,
  "nbformat_minor": 0,
  "metadata": {
    "colab": {
      "provenance": []
    },
    "kernelspec": {
      "name": "python3",
      "display_name": "Python 3"
    },
    "language_info": {
      "name": "python"
    }
  },
  "cells": [
    {
      "cell_type": "code",
      "execution_count": 2,
      "metadata": {
        "colab": {
          "base_uri": "https://localhost:8080/"
        },
        "id": "5exy6VuV6s3j",
        "outputId": "82cef395-b203-4858-915c-7da9e0e0428e"
      },
      "outputs": [
        {
          "output_type": "stream",
          "name": "stdout",
          "text": [
            "Enter name=amal\n",
            "Enter age=6\n",
            "Greetings amal of 6\n"
          ]
        }
      ],
      "source": [
        "name= input(\"Enter name=\")\n",
        "age= input(\"Enter age=\")\n",
        "print(f\"Greetings {name} of {age}\")"
      ]
    },
    {
      "cell_type": "code",
      "source": [
        "a = input(\"Enter element=\")\n",
        "try:\n",
        "  int_value = int(a)\n",
        "  print(\"INT\")\n",
        "except ValueError:\n",
        "  try:\n",
        "    float_value = float(a)\n",
        "    print(\"FLOAT\")\n",
        "  except ValueError:\n",
        "    print(\"STRING\")"
      ],
      "metadata": {
        "colab": {
          "base_uri": "https://localhost:8080/"
        },
        "id": "kJInpVWV7Hxf",
        "outputId": "66d7a1ab-9f2a-47d7-a7e1-5bc988a5c4e7"
      },
      "execution_count": 5,
      "outputs": [
        {
          "output_type": "stream",
          "name": "stdout",
          "text": [
            "Enter element=1.2\n",
            "FLOAT\n"
          ]
        }
      ]
    },
    {
      "cell_type": "code",
      "source": [
        "temp = [\"a\",\"b\",\"c\"]\n",
        "temp.append(\"d\")\n",
        "temp.remove(\"a\")\n",
        "for i in range(3):\n",
        "  print(temp[i].upper())"
      ],
      "metadata": {
        "colab": {
          "base_uri": "https://localhost:8080/"
        },
        "id": "M8hQlu638QWd",
        "outputId": "3c34974a-d1a3-42f0-f650-d1ec82cee3e3"
      },
      "execution_count": 6,
      "outputs": [
        {
          "output_type": "stream",
          "name": "stdout",
          "text": [
            "B\n",
            "C\n",
            "D\n"
          ]
        }
      ]
    },
    {
      "cell_type": "code",
      "source": [
        "temp = (1,2,3,4)\n",
        "(a,b,*c) = temp\n",
        "print(a,b)"
      ],
      "metadata": {
        "colab": {
          "base_uri": "https://localhost:8080/"
        },
        "id": "soaojYsP8uVN",
        "outputId": "3f341d80-8da6-46bd-99ff-48bbf698514c"
      },
      "execution_count": 10,
      "outputs": [
        {
          "output_type": "stream",
          "name": "stdout",
          "text": [
            "1 2\n"
          ]
        }
      ]
    },
    {
      "cell_type": "code",
      "source": [
        "students = {'Ali': 'A', 'Basam': 'B', 'Charlie': 'B+','Delta':'F','Eren': 'A-'}\n",
        "print(students)"
      ],
      "metadata": {
        "colab": {
          "base_uri": "https://localhost:8080/"
        },
        "id": "ohx0Gf_L9Mlx",
        "outputId": "cc537bd6-f238-4b44-882e-b76dd7795048"
      },
      "execution_count": 9,
      "outputs": [
        {
          "output_type": "stream",
          "name": "stdout",
          "text": [
            "{'Ali': 'A', 'Basam': 'B', 'Charlie': 'B+', 'Delta': 'F', 'Eren': 'A-'}\n"
          ]
        }
      ]
    },
    {
      "cell_type": "code",
      "source": [
        "list1 = []\n",
        "list2 = []\n",
        "for i in range(4):\n",
        "  a = int(input(\"Enter value for list 1=\"))\n",
        "  b = int(input(\"Enter value for list 1=\"))\n",
        "  list1.append(a)\n",
        "  list2.append(b)\n",
        "set1 = set(list1)\n",
        "set2 = set(list2)\n",
        "print(\"Union:\", set1 | set2)\n",
        "print(\"Intersection:\", set1 & set2)\n",
        "print(\"Difference:\", set1 - set2)\n",
        "\n"
      ],
      "metadata": {
        "id": "wCY0pvUB9-R6"
      },
      "execution_count": null,
      "outputs": []
    },
    {
      "cell_type": "code",
      "source": [
        "n = int(input(\"Enter an integer: \"))\n",
        "\n",
        "if n > 0:\n",
        "    print(\"+ve\")\n",
        "elif n < 0:\n",
        "    print(\"-ve\")\n",
        "else:\n",
        "    print(\"0\")\n",
        "\n",
        "print(\"Even\" if n % 2 == 0 else \"Odd\")"
      ],
      "metadata": {
        "id": "pRr0eERX_TFW"
      },
      "execution_count": null,
      "outputs": []
    },
    {
      "cell_type": "code",
      "source": [
        "for i in range(1, 51):\n",
        "  if i % 3 == 0 and i % 5 == 0:\n",
        "      print(\"FizzBuzz\")\n",
        "  elif i % 3 == 0:\n",
        "      print(\"Fizz\")\n",
        "  elif i % 5 == 0:\n",
        "      print(\"Buzz\")\n",
        "  else:\n",
        "      print(i)"
      ],
      "metadata": {
        "id": "NY2nbpeo_XJU"
      },
      "execution_count": null,
      "outputs": []
    },
    {
      "cell_type": "code",
      "source": [
        "def fac(n):\n",
        "    result = 1\n",
        "    for i in range(1, n + 1):\n",
        "        result *= i\n",
        "    return result\n",
        "\n",
        "n = int(input(\"Enter a non-negative integer: \"))\n",
        "print(fac(n))\n"
      ],
      "metadata": {
        "id": "nvtXuFLJ_lb1"
      },
      "execution_count": null,
      "outputs": []
    },
    {
      "cell_type": "code",
      "source": [
        "def prime(n):\n",
        "    if n < 2:\n",
        "        return False\n",
        "    for i in range(2, int(n/2) + 1):\n",
        "        if n % i == 0:\n",
        "            return False\n",
        "    return True\n",
        "\n",
        "n = int(input(\"Enter a number: \"))\n",
        "print(\"Prime\" if prime(n) else \"Not Prime\")"
      ],
      "metadata": {
        "colab": {
          "base_uri": "https://localhost:8080/"
        },
        "id": "guOI3E1p_95K",
        "outputId": "5acb050c-41b6-490c-fd69-0571020d6d0b"
      },
      "execution_count": 14,
      "outputs": [
        {
          "output_type": "stream",
          "name": "stdout",
          "text": [
            "Enter a number: 23\n",
            "Prime\n"
          ]
        }
      ]
    },
    {
      "cell_type": "code",
      "source": [
        "def squares(n):\n",
        "    return [x**2 for x in n]\n",
        "\n",
        "temp =[]\n",
        "for i in range(10):\n",
        "  temp.append(int(input(\"Enter\")))\n",
        "\n",
        "print(squares(temp))"
      ],
      "metadata": {
        "id": "PTJDDO-QAwR6"
      },
      "execution_count": null,
      "outputs": []
    },
    {
      "cell_type": "code",
      "source": [
        "dict1 = {\"a\": 1, \"b\": 2, \"c\": 3}\n",
        "dict2 = {\"b\": 20, \"c\": 30, \"d\": 40}\n",
        "\n",
        "merged_dict = {**dict1, **dict2}\n",
        "print(merged_dict)"
      ],
      "metadata": {
        "colab": {
          "base_uri": "https://localhost:8080/"
        },
        "id": "fL9EKJDVBRzZ",
        "outputId": "a161d965-8ce9-498e-b78e-02d75c4c541c"
      },
      "execution_count": 16,
      "outputs": [
        {
          "output_type": "stream",
          "name": "stdout",
          "text": [
            "{'a': 1, 'b': 20, 'c': 30, 'd': 40}\n"
          ]
        }
      ]
    },
    {
      "cell_type": "code",
      "source": [
        "temp =[]\n",
        "for i in range(10):\n",
        "  temp.append(int(input(\"Enter\")))\n",
        "set1 = set(temp)\n",
        "temp = list(set1)\n",
        "print(temp)"
      ],
      "metadata": {
        "colab": {
          "base_uri": "https://localhost:8080/"
        },
        "id": "-b1TvuDJBUcY",
        "outputId": "b615a961-f1f5-4b13-d1f6-825402086a33"
      },
      "execution_count": 15,
      "outputs": [
        {
          "output_type": "stream",
          "name": "stdout",
          "text": [
            "Enter1\n",
            "Enter1\n",
            "Enter1\n",
            "Enter1\n",
            "Enter1\n",
            "Enter1\n",
            "Enter2\n",
            "Enter2\n",
            "Enter2\n",
            "Enter2\n",
            "[1, 2]\n"
          ]
        }
      ]
    },
    {
      "cell_type": "code",
      "source": [
        "palindrome = lambda s : s == s[::-1]\n",
        "palindrome(\"colc\")\n"
      ],
      "metadata": {
        "colab": {
          "base_uri": "https://localhost:8080/"
        },
        "id": "hV1_Z6ijCN9O",
        "outputId": "6543af6d-4fc2-4844-88d2-41879d089c7f"
      },
      "execution_count": 18,
      "outputs": [
        {
          "output_type": "execute_result",
          "data": {
            "text/plain": [
              "False"
            ]
          },
          "metadata": {},
          "execution_count": 18
        }
      ]
    },
    {
      "cell_type": "code",
      "source": [
        "n = int(input(\"Enter range=\"))\n",
        "a=0\n",
        "b=1\n",
        "for i in range(n):\n",
        "  print(b)\n",
        "  a,b = b,a+b"
      ],
      "metadata": {
        "colab": {
          "base_uri": "https://localhost:8080/"
        },
        "id": "VTjlDPe3DHWz",
        "outputId": "08ce4aaa-57d6-4955-dca7-f79ee5a0e3bb"
      },
      "execution_count": 20,
      "outputs": [
        {
          "output_type": "stream",
          "name": "stdout",
          "text": [
            "Enter range=4\n",
            "1\n",
            "1\n",
            "2\n",
            "3\n"
          ]
        }
      ]
    },
    {
      "cell_type": "code",
      "source": [
        "temp = []\n",
        "while(len(temp) != 5):\n",
        "    num = input(\"Enter=\")\n",
        "    try:\n",
        "        temp.append(float(num))\n",
        "    except ValueError:\n",
        "        print(\"Invalid\")\n",
        "\n",
        "print(\"Average=\", sum(temp) / len(temp))\n",
        ""
      ],
      "metadata": {
        "colab": {
          "base_uri": "https://localhost:8080/"
        },
        "id": "p4YbmtipEumx",
        "outputId": "62fc704b-0c13-453a-8d92-dba3e8fc3976"
      },
      "execution_count": 23,
      "outputs": [
        {
          "output_type": "stream",
          "name": "stdout",
          "text": [
            "Enter=1\n",
            "Enter=a\n",
            "Invalid\n",
            "Enter=1\n",
            "Enter=2\n",
            "Enter=3\n",
            "Enter=1\n",
            "Average= 1.6\n"
          ]
        }
      ]
    },
    {
      "cell_type": "code",
      "source": [
        "my_dict = {}\n",
        "\n",
        "u = input(\"Enter username= \")\n",
        "p = input(\"Enter password= \")\n",
        "my_dict[u] = p\n",
        "print(\"Registration successful!\")\n",
        "\n",
        "u = input(\"Enter username= \")\n",
        "p = input(\"Enter password= \")\n",
        "if my_dict.get(u) == p:\n",
        "    print(\"Login successful!\")\n",
        "else:\n",
        "    print(\"Invalid credentials.\")"
      ],
      "metadata": {
        "colab": {
          "base_uri": "https://localhost:8080/"
        },
        "id": "3WiOnG8SEsAO",
        "outputId": "d47b16db-a1d1-41f9-874f-11455a60f91c"
      },
      "execution_count": 33,
      "outputs": [
        {
          "output_type": "stream",
          "name": "stdout",
          "text": [
            "Enter username= amal\n",
            "Enter password= 1243\n",
            "Registration successful!\n",
            "Enter username= amal\n",
            "Enter password= 1243\n",
            "Login successful!\n"
          ]
        }
      ]
    },
    {
      "cell_type": "code",
      "source": [
        "w = input(\"Enter words=\").split()\n",
        "my_dict = {}\n",
        "for x in w:\n",
        "    my_dict[x] = my_dict.get(x, 0) + 1\n",
        "print(my_dict)\n"
      ],
      "metadata": {
        "colab": {
          "base_uri": "https://localhost:8080/"
        },
        "id": "Bj8bzyREEplk",
        "outputId": "1b3b9afa-4a0d-4869-e4f4-49dddafce4b1"
      },
      "execution_count": 32,
      "outputs": [
        {
          "output_type": "stream",
          "name": "stdout",
          "text": [
            "Enter words=amal a b c d d \n",
            "{'amal': 1, 'a': 1, 'b': 1, 'c': 1, 'd': 2}\n"
          ]
        }
      ]
    },
    {
      "cell_type": "code",
      "source": [
        "c = input(\"a)Celsius to Fahrenheit \\nb)Fahrenheit to Celsius? \").lower()\n",
        "temp = float(input(\"Enter temperature: \"))\n",
        "\n",
        "if c == \"a\":\n",
        "    print(\"Fahrenheit:\", (temp * 9/5) + 32)\n",
        "elif c == \"b\":\n",
        "    print(\"Celsius:\", (temp - 32) * 5/9)\n",
        "else:\n",
        "    print(\"Invalid\")"
      ],
      "metadata": {
        "colab": {
          "base_uri": "https://localhost:8080/"
        },
        "id": "-Bfo3v73EoLF",
        "outputId": "51a0ac52-2124-423e-ef4d-eb59bb313866"
      },
      "execution_count": 31,
      "outputs": [
        {
          "output_type": "stream",
          "name": "stdout",
          "text": [
            "a)Celsius to Fahrenheit \n",
            "b)Fahrenheit to Celsius? b\n",
            "Enter temperature: 12.6\n",
            "Celsius: -10.777777777777779\n"
          ]
        }
      ]
    }
  ]
}